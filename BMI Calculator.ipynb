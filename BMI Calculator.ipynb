{
 "cells": [
  {
   "cell_type": "code",
   "execution_count": 1,
   "metadata": {},
   "outputs": [
    {
     "name": "stdout",
     "output_type": "stream",
     "text": [
      "BMI_Calculator\n",
      "helloOladeji Tolulope,you are very underweight\n"
     ]
    }
   ],
   "source": [
    "print('BMI_Calculator')\n",
    "weight = float(input('enter your weight in kg'))\n",
    "height = float(input('enter your height in m'))\n",
    "name = str(input('enter your full name'))\n",
    "BMI = weight/ (height*height)\n",
    "\n",
    "if(BMI>0):\n",
    "    if(BMI<=16):\n",
    "        print(f'hello{name},you are very underweight')\n",
    "    elif(BMI<=18.5):\n",
    "        print(f'hello{name},you are underweight')\n",
    "    elif(BMI<=25):\n",
    "        print(f'hello{name},Congrat!, you are healthy')\n",
    "    elif(BMI<=30):\n",
    "        print(f'hello{name},you are overweight')\n",
    "    else:\n",
    "        print(f'hello{name},you are very overweight')\n",
    "else:\n",
    "    print('Kindly,enter your valid details')"
   ]
  }
 ],
 "metadata": {
  "kernelspec": {
   "display_name": "Python 3.10.8 64-bit",
   "language": "python",
   "name": "python3"
  },
  "language_info": {
   "codemirror_mode": {
    "name": "ipython",
    "version": 3
   },
   "file_extension": ".py",
   "mimetype": "text/x-python",
   "name": "python",
   "nbconvert_exporter": "python",
   "pygments_lexer": "ipython3",
   "version": "3.10.8"
  },
  "orig_nbformat": 4,
  "vscode": {
   "interpreter": {
    "hash": "888d411b5db018e7af632073877baa76c7550987db85c3b73a7ac846eab949a2"
   }
  }
 },
 "nbformat": 4,
 "nbformat_minor": 2
}
